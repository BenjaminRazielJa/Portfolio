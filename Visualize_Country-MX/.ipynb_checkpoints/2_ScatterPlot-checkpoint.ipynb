{
 "cells": [
  {
   "cell_type": "markdown",
   "metadata": {},
   "source": [
    "# import libraries"
   ]
  },
  {
   "cell_type": "code",
   "execution_count": 1,
   "metadata": {},
   "outputs": [],
   "source": [
    "import numpy as np\n",
    "import pandas as pd\n",
    "from pandas.io.json import json_normalize\n",
    "#import requests\n",
    "import json\n",
    "#import datetime\n",
    "import matplotlib.pyplot as plt"
   ]
  },
  {
   "cell_type": "markdown",
   "metadata": {},
   "source": [
    "# Read the geo json with the geometric shape of the regions"
   ]
  },
  {
   "cell_type": "code",
   "execution_count": 2,
   "metadata": {},
   "outputs": [],
   "source": [
    "# file name, for all the municipalities in Mexico\n",
    "file_path_geo_json_mx_clean = 'todos_mun_mx_Clean.json'\n",
    "\n",
    "# read\n",
    "with open(file_path_geo_json_mx_clean, 'r') as f:\n",
    "    geo_json_mx = json.load(f)"
   ]
  },
  {
   "cell_type": "markdown",
   "metadata": {},
   "source": [
    "# Read CSV with municipality data"
   ]
  },
  {
   "cell_type": "code",
   "execution_count": 3,
   "metadata": {},
   "outputs": [],
   "source": [
    "# read new csv with municipalities\n",
    "df_mx = pd.read_csv('datos_municipios.csv')\n",
    "\n",
    "# convert municipality code to string\n",
    "df_mx[['Code']] = df_mx[['Code']].astype(str)\n",
    "\n",
    "# add zeros to the left if necessary\n",
    "# it is important to distinguish between apply and apply map\n",
    "df_mx[['Code']] = df_mx[['Code']].applymap(\n",
    "    lambda x: ((5-len(x))*'0')+x\n",
    ")\n",
    "\n",
    "# convert state code code to string\n",
    "df_mx[['State Code']] = df_mx[['State Code']].astype(str)\n",
    "\n",
    "# add zeros to the left if necessary\n",
    "# it is important to distinguish between apply and apply map\n",
    "df_mx[['State Code']] = df_mx[['State Code']].applymap(\n",
    "    lambda x: ((2-len(x))*'0')+x\n",
    ")\n",
    "\n",
    "# set 'Code' as the index of the dataframe\n",
    "df_mx.set_index('Code',inplace=True)"
   ]
  },
  {
   "cell_type": "code",
   "execution_count": 4,
   "metadata": {},
   "outputs": [
    {
     "data": {
      "text/html": [
       "<div>\n",
       "<style scoped>\n",
       "    .dataframe tbody tr th:only-of-type {\n",
       "        vertical-align: middle;\n",
       "    }\n",
       "\n",
       "    .dataframe tbody tr th {\n",
       "        vertical-align: top;\n",
       "    }\n",
       "\n",
       "    .dataframe thead th {\n",
       "        text-align: right;\n",
       "    }\n",
       "</style>\n",
       "<table border=\"1\" class=\"dataframe\">\n",
       "  <thead>\n",
       "    <tr style=\"text-align: right;\">\n",
       "      <th></th>\n",
       "      <th>Municipality</th>\n",
       "      <th>People</th>\n",
       "      <th>Males</th>\n",
       "      <th>Females</th>\n",
       "      <th>Asymmetry</th>\n",
       "      <th>State Code</th>\n",
       "    </tr>\n",
       "    <tr>\n",
       "      <th>Code</th>\n",
       "      <th></th>\n",
       "      <th></th>\n",
       "      <th></th>\n",
       "      <th></th>\n",
       "      <th></th>\n",
       "      <th></th>\n",
       "    </tr>\n",
       "  </thead>\n",
       "  <tbody>\n",
       "    <tr>\n",
       "      <th>04004</th>\n",
       "      <td>Champotón</td>\n",
       "      <td>83021</td>\n",
       "      <td>41760</td>\n",
       "      <td>41261</td>\n",
       "      <td>0.006011</td>\n",
       "      <td>04</td>\n",
       "    </tr>\n",
       "    <tr>\n",
       "      <th>23004</th>\n",
       "      <td>Othón P. Blanco</td>\n",
       "      <td>244553</td>\n",
       "      <td>121906</td>\n",
       "      <td>122647</td>\n",
       "      <td>-0.003030</td>\n",
       "      <td>23</td>\n",
       "    </tr>\n",
       "    <tr>\n",
       "      <th>23005</th>\n",
       "      <td>Benito Juárez</td>\n",
       "      <td>661176</td>\n",
       "      <td>334945</td>\n",
       "      <td>326231</td>\n",
       "      <td>0.013180</td>\n",
       "      <td>23</td>\n",
       "    </tr>\n",
       "    <tr>\n",
       "      <th>23006</th>\n",
       "      <td>José María Morelos</td>\n",
       "      <td>36179</td>\n",
       "      <td>18506</td>\n",
       "      <td>17673</td>\n",
       "      <td>0.023024</td>\n",
       "      <td>23</td>\n",
       "    </tr>\n",
       "    <tr>\n",
       "      <th>23008</th>\n",
       "      <td>Solidaridad</td>\n",
       "      <td>159310</td>\n",
       "      <td>83468</td>\n",
       "      <td>75842</td>\n",
       "      <td>0.047869</td>\n",
       "      <td>23</td>\n",
       "    </tr>\n",
       "    <tr>\n",
       "      <th>23009</th>\n",
       "      <td>Tulum</td>\n",
       "      <td>28263</td>\n",
       "      <td>14714</td>\n",
       "      <td>13549</td>\n",
       "      <td>0.041220</td>\n",
       "      <td>23</td>\n",
       "    </tr>\n",
       "    <tr>\n",
       "      <th>23002</th>\n",
       "      <td>Felipe Carrillo Puerto</td>\n",
       "      <td>75026</td>\n",
       "      <td>37994</td>\n",
       "      <td>37032</td>\n",
       "      <td>0.012822</td>\n",
       "      <td>23</td>\n",
       "    </tr>\n",
       "    <tr>\n",
       "      <th>23001</th>\n",
       "      <td>Cozumel</td>\n",
       "      <td>79535</td>\n",
       "      <td>40357</td>\n",
       "      <td>39178</td>\n",
       "      <td>0.014824</td>\n",
       "      <td>23</td>\n",
       "    </tr>\n",
       "    <tr>\n",
       "      <th>23007</th>\n",
       "      <td>Lázaro Cárdenas</td>\n",
       "      <td>25333</td>\n",
       "      <td>12972</td>\n",
       "      <td>12361</td>\n",
       "      <td>0.024119</td>\n",
       "      <td>23</td>\n",
       "    </tr>\n",
       "    <tr>\n",
       "      <th>23003</th>\n",
       "      <td>Isla Mujeres</td>\n",
       "      <td>16203</td>\n",
       "      <td>8358</td>\n",
       "      <td>7845</td>\n",
       "      <td>0.031661</td>\n",
       "      <td>23</td>\n",
       "    </tr>\n",
       "  </tbody>\n",
       "</table>\n",
       "</div>"
      ],
      "text/plain": [
       "                 Municipality  People   Males  Females  Asymmetry State Code\n",
       "Code                                                                        \n",
       "04004               Champotón   83021   41760    41261   0.006011         04\n",
       "23004         Othón P. Blanco  244553  121906   122647  -0.003030         23\n",
       "23005           Benito Juárez  661176  334945   326231   0.013180         23\n",
       "23006      José María Morelos   36179   18506    17673   0.023024         23\n",
       "23008             Solidaridad  159310   83468    75842   0.047869         23\n",
       "23009                   Tulum   28263   14714    13549   0.041220         23\n",
       "23002  Felipe Carrillo Puerto   75026   37994    37032   0.012822         23\n",
       "23001                 Cozumel   79535   40357    39178   0.014824         23\n",
       "23007         Lázaro Cárdenas   25333   12972    12361   0.024119         23\n",
       "23003            Isla Mujeres   16203    8358     7845   0.031661         23"
      ]
     },
     "execution_count": 4,
     "metadata": {},
     "output_type": "execute_result"
    }
   ],
   "source": [
    "df_mx.tail(10)"
   ]
  },
  {
   "cell_type": "code",
   "execution_count": 5,
   "metadata": {},
   "outputs": [
    {
     "name": "stdout",
     "output_type": "stream",
     "text": [
      "(2436, 6)\n",
      "Municipality     object\n",
      "People            int64\n",
      "Males             int64\n",
      "Females           int64\n",
      "Asymmetry       float64\n",
      "State Code       object\n",
      "dtype: object\n"
     ]
    }
   ],
   "source": [
    "print(df_mx.shape)\n",
    "print(df_mx.dtypes)\n",
    "#list(df_mx.index.values)"
   ]
  },
  {
   "cell_type": "markdown",
   "metadata": {},
   "source": [
    "# Add geographical coordinates (LUEGO)"
   ]
  },
  {
   "cell_type": "code",
   "execution_count": 6,
   "metadata": {},
   "outputs": [
    {
     "data": {
      "text/plain": [
       "2436"
      ]
     },
     "execution_count": 6,
     "metadata": {},
     "output_type": "execute_result"
    }
   ],
   "source": [
    "len(geo_json_mx['features'])"
   ]
  },
  {
   "cell_type": "code",
   "execution_count": 7,
   "metadata": {},
   "outputs": [],
   "source": [
    "# dataframe from the geo json \n",
    "# https://stackoverflow.com/questions/41168558/python-how-to-convert-json-file-to-dataframe/41168691\n",
    "# df_geo_mx = pd.DataFrame.from_dict(geo_json_mx['features'], orient='columns')\n",
    "df_geo_mx = pd.DataFrame.from_dict(json_normalize(geo_json_mx['features']), orient='columns')"
   ]
  },
  {
   "cell_type": "markdown",
   "metadata": {},
   "source": [
    "# Scatterplot"
   ]
  },
  {
   "cell_type": "code",
   "execution_count": 8,
   "metadata": {},
   "outputs": [
    {
     "data": {
      "image/png": "[encoded data removed]",
      "text/plain": [
       "<matplotlib.figure.Figure at 0x7fb05d46c0f0>"
      ]
     },
     "metadata": {},
     "output_type": "display_data"
    }
   ],
   "source": [
    "plt.scatter( np.log(df_mx['People']), df_mx['Asymmetry'])\n",
    "plt.title('Scatter plot pythonspot.com')\n",
    "plt.xlabel('x')\n",
    "plt.ylabel('y')\n",
    "plt.show()"
   ]
  }
 ],
 "metadata": {
  "kernelspec": {
   "display_name": "Python 3",
   "language": "python",
   "name": "python3"
  },
  "language_info": {
   "codemirror_mode": {
    "name": "ipython",
    "version": 3
   },
   "file_extension": ".py",
   "mimetype": "text/x-python",
   "name": "python",
   "nbconvert_exporter": "python",
   "pygments_lexer": "ipython3",
   "version": "3.6.7"
  }
 },
 "nbformat": 4,
 "nbformat_minor": 2
}
