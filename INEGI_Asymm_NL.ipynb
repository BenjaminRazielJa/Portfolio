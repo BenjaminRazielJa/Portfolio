{
 "cells": [
  {
   "cell_type": "markdown",
   "metadata": {},
   "source": [
    "# import libraries"
   ]
  },
  {
   "cell_type": "code",
   "execution_count": 1,
   "metadata": {},
   "outputs": [],
   "source": [
    "import pandas as pd\n",
    "import requests\n",
    "import json\n",
    "import datetime\n",
    "import folium\n",
    "from folium import plugins\n",
    "import time\n",
    "import matplotlib"
   ]
  },
  {
   "cell_type": "markdown",
   "metadata": {},
   "source": [
    "# Read the geo json with the geometric shape of the regions"
   ]
  },
  {
   "cell_type": "code",
   "execution_count": 2,
   "metadata": {},
   "outputs": [],
   "source": [
    "# file name, for all the municipalities in the Mexican state of Nuevo León\n",
    "file_geo_json_nl = 'Munxentidad19_MOD.json' # nuevo leon\n",
    "\n",
    "# read nl\n",
    "with open(file_geo_json_nl) as f:\n",
    "    geo_json_nl = json.load(f)"
   ]
  },
  {
   "cell_type": "markdown",
   "metadata": {},
   "source": [
    "###\n",
    "    geo_json_nl is a dictionary with two keys: 'type' and 'features'.\n",
    "    \n",
    "        The first key, 'type' returns the string 'FeatureCollection'.  \n",
    "        \n",
    "        The second key, 'features' is a list with 51 elements for the municipalities of the state.   \n",
    "        \n",
    "            Each of the 51 elements of the list is a dictionary with keys 'type', 'properties', 'geometry'.   \n",
    "            \n",
    "                The first key, 'type', returns 'Feature'.\n",
    "                \n",
    "                The second key, 'properties', is a dictionary with the keys 'state_code', 'mun_code', 'mun_name'.\n",
    "                \n",
    "                The third key, 'geometry', has the coordinates.\n",
    "        "
   ]
  },
  {
   "cell_type": "code",
   "execution_count": 3,
   "metadata": {},
   "outputs": [],
   "source": [
    "# list of codes for municipalities\n",
    "mun_code_list = []\n",
    "mun_name_list = []\n",
    "\n",
    "for municipio in geo_json_nl['features']:\n",
    "    mun_code_list.append( municipio['properties']['mun_code'] )\n",
    "    mun_name_list.append( municipio['properties']['mun_name'] )\n",
    "    \n",
    "n_mun = len(mun_code_list)"
   ]
  },
  {
   "cell_type": "code",
   "execution_count": 4,
   "metadata": {},
   "outputs": [],
   "source": [
    "# adjust strings with only one digit to have two digits\n",
    "for i in list(range(0,len(mun_code_list))):\n",
    "    if len(mun_code_list[i])==1:\n",
    "        mun_code_list[i] = '0'+mun_code_list[i]"
   ]
  },
  {
   "cell_type": "code",
   "execution_count": 5,
   "metadata": {},
   "outputs": [
    {
     "name": "stdout",
     "output_type": "stream",
     "text": [
      "51 51\n",
      "['26', '31', '41', '49', '18', '48', '39', '19', '10', '21', '45', '25', '06', '12', '47', '01', '13', '20', '03', '15', '51', '44', '46', '08', '33', '50', '43', '42', '40', '38', '37', '36', '35', '34', '32', '30', '29', '28', '27', '24', '23', '22', '17', '16', '14', '11', '09', '07', '05', '04', '02']\n",
      "['Guadalupe', 'Juárez', 'Pesquería', 'Santiago', 'García', 'Santa Catarina', 'Monterrey', 'San Pedro Garza García', 'Carmen', 'Gral. Escobedo', 'Salinas Victoria', 'Gral. Zuazua', 'Apodaca', 'Ciénega de Flores', 'Hidalgo', 'Abasolo', 'China', 'Gral. Bravo', 'Los Aldamas', 'Dr. Coss', 'Villaldama', 'Sabinas Hidalgo', 'San Nicolás de los Garza', 'Bustamante', 'Linares', 'Vallecillo', 'Rayones', 'Los Ramones', 'Parás', 'Montemorelos', 'Mina', 'Mier y Noriega', 'Melchor Ocampo', 'Marín', 'Lampazos de Naranjo', 'Iturbide', 'Hualahuises', 'Higueras', 'Los Herreras', 'Gral. Zaragoza', 'Gral. Treviño', 'Gral. Terán', 'Galeana', 'Dr. González', 'Dr. Arroyo', 'Cerralvo', 'Cadereyta Jiménez', 'Aramberri', 'Anáhuac', 'Allende', 'Agualeguas']\n"
     ]
    }
   ],
   "source": [
    "print(n_mun,len(mun_name_list))\n",
    "print(mun_code_list)\n",
    "print(mun_name_list)"
   ]
  },
  {
   "cell_type": "markdown",
   "metadata": {},
   "source": [
    "# Read from INEGI data bank"
   ]
  },
  {
   "cell_type": "markdown",
   "metadata": {},
   "source": [
    "## my tokens and test urls"
   ]
  },
  {
   "cell_type": "code",
   "execution_count": 6,
   "metadata": {},
   "outputs": [],
   "source": [
    "# my_token_banco = 'e328b804-6d59-b5dc-77ea-482ca3c4120c'"
   ]
  },
  {
   "cell_type": "code",
   "execution_count": 7,
   "metadata": {},
   "outputs": [],
   "source": [
    "# look at\n",
    "# https://www.inegi.org.mx/app/api/indicadores/desarrolladores/jsonxml/INDICATOR/1002000002,1002000003/en/19026/true/BISE/2.0/e328b804-6d59-b5dc-77ea-482ca3c4120c?type=json\n",
    "# there, the 19 is for Nuevo León State and the 026 is for Guadalupe Municipality. I will look through all the municipalities in the text\n",
    "\n",
    "url_Ini = 'https://www.inegi.org.mx/app/api/indicadores/desarrolladores/jsonxml/INDICATOR/'\n",
    "indicadores = '1002000002,1002000003'"
   ]
  },
  {
   "cell_type": "markdown",
   "metadata": {},
   "source": [
    "## read"
   ]
  },
  {
   "cell_type": "code",
   "execution_count": 8,
   "metadata": {
    "scrolled": true
   },
   "outputs": [
    {
     "name": "stdout",
     "output_type": "stream",
     "text": [
      "begin--- 2020-04-25 18:58:19.603737\n",
      "end----- 2020-04-25 18:59:02.873589\n"
     ]
    }
   ],
   "source": [
    "json_mun_list = []\n",
    "\n",
    "print('begin---',datetime.datetime.now())\n",
    "\n",
    "#for i, mun_code in zip( list(range(0,len(mun_code_list))) , mun_code_list ):\n",
    "for mun_code in mun_code_list:\n",
    "    time.sleep(0.0025)\n",
    "    resp_tmp = requests.get( url_Ini + indicadores + '/en/' + '190' + mun_code + '/true/BISE/2.0/e328b804-6d59-b5dc-77ea-482ca3c4120c?type=json' )\n",
    "    if resp_tmp.status_code==200:\n",
    "        json_tmp = json.loads(resp_tmp.content)\n",
    "        json_mun_list.append(json_tmp)\n",
    "    \n",
    "print('end-----',datetime.datetime.now())"
   ]
  },
  {
   "cell_type": "code",
   "execution_count": 9,
   "metadata": {},
   "outputs": [],
   "source": [
    "# dataframe with Nuevo Leon State valid Municipalities\n",
    "df_nl = pd.DataFrame(columns=('Municipality', 'Code', 'People', 'Males', 'Females', 'Asymmetry'))\n",
    "\n",
    "n_valid_mun = 0;\n",
    "for mun_name, mun_code, data_mun in zip( mun_name_list, mun_code_list, json_mun_list ):\n",
    "    if data_mun['Series'] != None:\n",
    "        df_nl.loc[n_valid_mun] = [\n",
    "            mun_name,#\n",
    "            mun_code,# string with two digit number\n",
    "            # total\n",
    "            int(float( data_mun['Series'][0]['OBSERVATIONS'][0]['OBS_VALUE'] )) + int(float( data_mun['Series'][1]['OBSERVATIONS'][0]['OBS_VALUE'] )),\n",
    "            # males\n",
    "            int(float( data_mun['Series'][0]['OBSERVATIONS'][0]['OBS_VALUE'] )),\n",
    "            # females\n",
    "            int(float( data_mun['Series'][1]['OBSERVATIONS'][0]['OBS_VALUE'] )),\n",
    "            # asymmetry males - females. If negative there are more females than males\n",
    "            (int(float( data_mun['Series'][0]['OBSERVATIONS'][0]['OBS_VALUE'] )) - int(float( data_mun['Series'][1]['OBSERVATIONS'][0]['OBS_VALUE'] )))/(int(float( data_mun['Series'][0]['OBSERVATIONS'][0]['OBS_VALUE'] )) + int(float( data_mun['Series'][1]['OBSERVATIONS'][0]['OBS_VALUE'] )))\n",
    "        ]\n",
    "        n_valid_mun = n_valid_mun+1"
   ]
  },
  {
   "cell_type": "code",
   "execution_count": 10,
   "metadata": {},
   "outputs": [],
   "source": [
    "# set 'Code' as the index of the dataframe\n",
    "df_nl.set_index('Code',inplace=True)"
   ]
  },
  {
   "cell_type": "code",
   "execution_count": 11,
   "metadata": {},
   "outputs": [
    {
     "data": {
      "text/plain": [
       "(51, 5)"
      ]
     },
     "execution_count": 11,
     "metadata": {},
     "output_type": "execute_result"
    }
   ],
   "source": [
    "df_nl.shape"
   ]
  },
  {
   "cell_type": "code",
   "execution_count": 12,
   "metadata": {},
   "outputs": [
    {
     "data": {
      "text/plain": [
       "Municipality     object\n",
       "People           object\n",
       "Males            object\n",
       "Females          object\n",
       "Asymmetry       float64\n",
       "dtype: object"
      ]
     },
     "execution_count": 12,
     "metadata": {},
     "output_type": "execute_result"
    }
   ],
   "source": [
    "df_nl.dtypes"
   ]
  },
  {
   "cell_type": "code",
   "execution_count": 13,
   "metadata": {},
   "outputs": [
    {
     "data": {
      "text/plain": [
       "678006"
      ]
     },
     "execution_count": 13,
     "metadata": {},
     "output_type": "execute_result"
    }
   ],
   "source": [
    "df_nl['People'].iloc[0]"
   ]
  },
  {
   "cell_type": "code",
   "execution_count": 14,
   "metadata": {},
   "outputs": [
    {
     "data": {
      "text/html": [
       "<div>\n",
       "<style scoped>\n",
       "    .dataframe tbody tr th:only-of-type {\n",
       "        vertical-align: middle;\n",
       "    }\n",
       "\n",
       "    .dataframe tbody tr th {\n",
       "        vertical-align: top;\n",
       "    }\n",
       "\n",
       "    .dataframe thead th {\n",
       "        text-align: right;\n",
       "    }\n",
       "</style>\n",
       "<table border=\"1\" class=\"dataframe\">\n",
       "  <thead>\n",
       "    <tr style=\"text-align: right;\">\n",
       "      <th></th>\n",
       "      <th>Municipality</th>\n",
       "      <th>People</th>\n",
       "      <th>Males</th>\n",
       "      <th>Females</th>\n",
       "      <th>Asymmetry</th>\n",
       "    </tr>\n",
       "    <tr>\n",
       "      <th>Code</th>\n",
       "      <th></th>\n",
       "      <th></th>\n",
       "      <th></th>\n",
       "      <th></th>\n",
       "      <th></th>\n",
       "    </tr>\n",
       "  </thead>\n",
       "  <tbody>\n",
       "    <tr>\n",
       "      <th>26</th>\n",
       "      <td>Guadalupe</td>\n",
       "      <td>678006</td>\n",
       "      <td>336731</td>\n",
       "      <td>341275</td>\n",
       "      <td>-0.006702</td>\n",
       "    </tr>\n",
       "  </tbody>\n",
       "</table>\n",
       "</div>"
      ],
      "text/plain": [
       "     Municipality  People   Males Females  Asymmetry\n",
       "Code                                                \n",
       "26      Guadalupe  678006  336731  341275  -0.006702"
      ]
     },
     "execution_count": 14,
     "metadata": {},
     "output_type": "execute_result"
    }
   ],
   "source": [
    "df_nl.loc[['26']]"
   ]
  },
  {
   "cell_type": "code",
   "execution_count": 15,
   "metadata": {},
   "outputs": [
    {
     "data": {
      "text/html": [
       "<div>\n",
       "<style scoped>\n",
       "    .dataframe tbody tr th:only-of-type {\n",
       "        vertical-align: middle;\n",
       "    }\n",
       "\n",
       "    .dataframe tbody tr th {\n",
       "        vertical-align: top;\n",
       "    }\n",
       "\n",
       "    .dataframe thead th {\n",
       "        text-align: right;\n",
       "    }\n",
       "</style>\n",
       "<table border=\"1\" class=\"dataframe\">\n",
       "  <thead>\n",
       "    <tr style=\"text-align: right;\">\n",
       "      <th></th>\n",
       "      <th>Municipality</th>\n",
       "      <th>People</th>\n",
       "      <th>Males</th>\n",
       "      <th>Females</th>\n",
       "      <th>Asymmetry</th>\n",
       "    </tr>\n",
       "    <tr>\n",
       "      <th>Code</th>\n",
       "      <th></th>\n",
       "      <th></th>\n",
       "      <th></th>\n",
       "      <th></th>\n",
       "      <th></th>\n",
       "    </tr>\n",
       "  </thead>\n",
       "  <tbody>\n",
       "    <tr>\n",
       "      <th>26</th>\n",
       "      <td>Guadalupe</td>\n",
       "      <td>678006</td>\n",
       "      <td>336731</td>\n",
       "      <td>341275</td>\n",
       "      <td>-0.006702</td>\n",
       "    </tr>\n",
       "    <tr>\n",
       "      <th>31</th>\n",
       "      <td>Juárez</td>\n",
       "      <td>256970</td>\n",
       "      <td>129324</td>\n",
       "      <td>127646</td>\n",
       "      <td>0.006530</td>\n",
       "    </tr>\n",
       "    <tr>\n",
       "      <th>41</th>\n",
       "      <td>Pesquería</td>\n",
       "      <td>20843</td>\n",
       "      <td>10737</td>\n",
       "      <td>10106</td>\n",
       "      <td>0.030274</td>\n",
       "    </tr>\n",
       "    <tr>\n",
       "      <th>49</th>\n",
       "      <td>Santiago</td>\n",
       "      <td>40469</td>\n",
       "      <td>20341</td>\n",
       "      <td>20128</td>\n",
       "      <td>0.005263</td>\n",
       "    </tr>\n",
       "    <tr>\n",
       "      <th>18</th>\n",
       "      <td>García</td>\n",
       "      <td>143668</td>\n",
       "      <td>72640</td>\n",
       "      <td>71028</td>\n",
       "      <td>0.011220</td>\n",
       "    </tr>\n",
       "    <tr>\n",
       "      <th>48</th>\n",
       "      <td>Santa Catarina</td>\n",
       "      <td>268955</td>\n",
       "      <td>134388</td>\n",
       "      <td>134567</td>\n",
       "      <td>-0.000666</td>\n",
       "    </tr>\n",
       "    <tr>\n",
       "      <th>39</th>\n",
       "      <td>Monterrey</td>\n",
       "      <td>1135550</td>\n",
       "      <td>561656</td>\n",
       "      <td>573894</td>\n",
       "      <td>-0.010777</td>\n",
       "    </tr>\n",
       "    <tr>\n",
       "      <th>19</th>\n",
       "      <td>San Pedro Garza García</td>\n",
       "      <td>122659</td>\n",
       "      <td>57622</td>\n",
       "      <td>65037</td>\n",
       "      <td>-0.060452</td>\n",
       "    </tr>\n",
       "    <tr>\n",
       "      <th>10</th>\n",
       "      <td>Carmen</td>\n",
       "      <td>16092</td>\n",
       "      <td>8175</td>\n",
       "      <td>7917</td>\n",
       "      <td>0.016033</td>\n",
       "    </tr>\n",
       "    <tr>\n",
       "      <th>21</th>\n",
       "      <td>Gral. Escobedo</td>\n",
       "      <td>357937</td>\n",
       "      <td>180332</td>\n",
       "      <td>177605</td>\n",
       "      <td>0.007619</td>\n",
       "    </tr>\n",
       "    <tr>\n",
       "      <th>45</th>\n",
       "      <td>Salinas Victoria</td>\n",
       "      <td>32660</td>\n",
       "      <td>16800</td>\n",
       "      <td>15860</td>\n",
       "      <td>0.028781</td>\n",
       "    </tr>\n",
       "    <tr>\n",
       "      <th>25</th>\n",
       "      <td>Gral. Zuazua</td>\n",
       "      <td>55213</td>\n",
       "      <td>27787</td>\n",
       "      <td>27426</td>\n",
       "      <td>0.006538</td>\n",
       "    </tr>\n",
       "    <tr>\n",
       "      <th>06</th>\n",
       "      <td>Apodaca</td>\n",
       "      <td>523370</td>\n",
       "      <td>263374</td>\n",
       "      <td>259996</td>\n",
       "      <td>0.006454</td>\n",
       "    </tr>\n",
       "    <tr>\n",
       "      <th>12</th>\n",
       "      <td>Ciénega de Flores</td>\n",
       "      <td>24526</td>\n",
       "      <td>12476</td>\n",
       "      <td>12050</td>\n",
       "      <td>0.017369</td>\n",
       "    </tr>\n",
       "    <tr>\n",
       "      <th>47</th>\n",
       "      <td>Hidalgo</td>\n",
       "      <td>16604</td>\n",
       "      <td>8318</td>\n",
       "      <td>8286</td>\n",
       "      <td>0.001927</td>\n",
       "    </tr>\n",
       "    <tr>\n",
       "      <th>01</th>\n",
       "      <td>Abasolo</td>\n",
       "      <td>2791</td>\n",
       "      <td>1406</td>\n",
       "      <td>1385</td>\n",
       "      <td>0.007524</td>\n",
       "    </tr>\n",
       "    <tr>\n",
       "      <th>13</th>\n",
       "      <td>China</td>\n",
       "      <td>10864</td>\n",
       "      <td>5585</td>\n",
       "      <td>5279</td>\n",
       "      <td>0.028166</td>\n",
       "    </tr>\n",
       "    <tr>\n",
       "      <th>20</th>\n",
       "      <td>Gral. Bravo</td>\n",
       "      <td>5527</td>\n",
       "      <td>2876</td>\n",
       "      <td>2651</td>\n",
       "      <td>0.040709</td>\n",
       "    </tr>\n",
       "    <tr>\n",
       "      <th>03</th>\n",
       "      <td>Los Aldamas</td>\n",
       "      <td>1374</td>\n",
       "      <td>708</td>\n",
       "      <td>666</td>\n",
       "      <td>0.030568</td>\n",
       "    </tr>\n",
       "    <tr>\n",
       "      <th>15</th>\n",
       "      <td>Dr. Coss</td>\n",
       "      <td>1716</td>\n",
       "      <td>889</td>\n",
       "      <td>827</td>\n",
       "      <td>0.036131</td>\n",
       "    </tr>\n",
       "    <tr>\n",
       "      <th>51</th>\n",
       "      <td>Villaldama</td>\n",
       "      <td>4113</td>\n",
       "      <td>2073</td>\n",
       "      <td>2040</td>\n",
       "      <td>0.008023</td>\n",
       "    </tr>\n",
       "    <tr>\n",
       "      <th>44</th>\n",
       "      <td>Sabinas Hidalgo</td>\n",
       "      <td>34671</td>\n",
       "      <td>17214</td>\n",
       "      <td>17457</td>\n",
       "      <td>-0.007009</td>\n",
       "    </tr>\n",
       "    <tr>\n",
       "      <th>46</th>\n",
       "      <td>San Nicolás de los Garza</td>\n",
       "      <td>443273</td>\n",
       "      <td>219337</td>\n",
       "      <td>223936</td>\n",
       "      <td>-0.010375</td>\n",
       "    </tr>\n",
       "    <tr>\n",
       "      <th>08</th>\n",
       "      <td>Bustamante</td>\n",
       "      <td>3773</td>\n",
       "      <td>1890</td>\n",
       "      <td>1883</td>\n",
       "      <td>0.001855</td>\n",
       "    </tr>\n",
       "    <tr>\n",
       "      <th>33</th>\n",
       "      <td>Linares</td>\n",
       "      <td>78669</td>\n",
       "      <td>39104</td>\n",
       "      <td>39565</td>\n",
       "      <td>-0.005860</td>\n",
       "    </tr>\n",
       "    <tr>\n",
       "      <th>50</th>\n",
       "      <td>Vallecillo</td>\n",
       "      <td>1971</td>\n",
       "      <td>1065</td>\n",
       "      <td>906</td>\n",
       "      <td>0.080670</td>\n",
       "    </tr>\n",
       "    <tr>\n",
       "      <th>43</th>\n",
       "      <td>Rayones</td>\n",
       "      <td>2628</td>\n",
       "      <td>1363</td>\n",
       "      <td>1265</td>\n",
       "      <td>0.037291</td>\n",
       "    </tr>\n",
       "    <tr>\n",
       "      <th>42</th>\n",
       "      <td>Los Ramones</td>\n",
       "      <td>5359</td>\n",
       "      <td>2720</td>\n",
       "      <td>2639</td>\n",
       "      <td>0.015115</td>\n",
       "    </tr>\n",
       "    <tr>\n",
       "      <th>40</th>\n",
       "      <td>Parás</td>\n",
       "      <td>1034</td>\n",
       "      <td>512</td>\n",
       "      <td>522</td>\n",
       "      <td>-0.009671</td>\n",
       "    </tr>\n",
       "    <tr>\n",
       "      <th>38</th>\n",
       "      <td>Montemorelos</td>\n",
       "      <td>59113</td>\n",
       "      <td>29370</td>\n",
       "      <td>29743</td>\n",
       "      <td>-0.006310</td>\n",
       "    </tr>\n",
       "    <tr>\n",
       "      <th>37</th>\n",
       "      <td>Mina</td>\n",
       "      <td>5447</td>\n",
       "      <td>2774</td>\n",
       "      <td>2673</td>\n",
       "      <td>0.018542</td>\n",
       "    </tr>\n",
       "    <tr>\n",
       "      <th>36</th>\n",
       "      <td>Mier y Noriega</td>\n",
       "      <td>7095</td>\n",
       "      <td>3555</td>\n",
       "      <td>3540</td>\n",
       "      <td>0.002114</td>\n",
       "    </tr>\n",
       "    <tr>\n",
       "      <th>35</th>\n",
       "      <td>Melchor Ocampo</td>\n",
       "      <td>862</td>\n",
       "      <td>433</td>\n",
       "      <td>429</td>\n",
       "      <td>0.004640</td>\n",
       "    </tr>\n",
       "    <tr>\n",
       "      <th>34</th>\n",
       "      <td>Marín</td>\n",
       "      <td>5488</td>\n",
       "      <td>2808</td>\n",
       "      <td>2680</td>\n",
       "      <td>0.023324</td>\n",
       "    </tr>\n",
       "    <tr>\n",
       "      <th>32</th>\n",
       "      <td>Lampazos de Naranjo</td>\n",
       "      <td>5349</td>\n",
       "      <td>2700</td>\n",
       "      <td>2649</td>\n",
       "      <td>0.009534</td>\n",
       "    </tr>\n",
       "    <tr>\n",
       "      <th>30</th>\n",
       "      <td>Iturbide</td>\n",
       "      <td>3558</td>\n",
       "      <td>1844</td>\n",
       "      <td>1714</td>\n",
       "      <td>0.036537</td>\n",
       "    </tr>\n",
       "    <tr>\n",
       "      <th>29</th>\n",
       "      <td>Hualahuises</td>\n",
       "      <td>6914</td>\n",
       "      <td>3424</td>\n",
       "      <td>3490</td>\n",
       "      <td>-0.009546</td>\n",
       "    </tr>\n",
       "    <tr>\n",
       "      <th>28</th>\n",
       "      <td>Higueras</td>\n",
       "      <td>1594</td>\n",
       "      <td>829</td>\n",
       "      <td>765</td>\n",
       "      <td>0.040151</td>\n",
       "    </tr>\n",
       "    <tr>\n",
       "      <th>27</th>\n",
       "      <td>Los Herreras</td>\n",
       "      <td>2030</td>\n",
       "      <td>1001</td>\n",
       "      <td>1029</td>\n",
       "      <td>-0.013793</td>\n",
       "    </tr>\n",
       "    <tr>\n",
       "      <th>24</th>\n",
       "      <td>Gral. Zaragoza</td>\n",
       "      <td>5942</td>\n",
       "      <td>3052</td>\n",
       "      <td>2890</td>\n",
       "      <td>0.027264</td>\n",
       "    </tr>\n",
       "    <tr>\n",
       "      <th>23</th>\n",
       "      <td>Gral. Treviño</td>\n",
       "      <td>1277</td>\n",
       "      <td>626</td>\n",
       "      <td>651</td>\n",
       "      <td>-0.019577</td>\n",
       "    </tr>\n",
       "    <tr>\n",
       "      <th>22</th>\n",
       "      <td>Gral. Terán</td>\n",
       "      <td>14437</td>\n",
       "      <td>7234</td>\n",
       "      <td>7203</td>\n",
       "      <td>0.002147</td>\n",
       "    </tr>\n",
       "    <tr>\n",
       "      <th>17</th>\n",
       "      <td>Galeana</td>\n",
       "      <td>39991</td>\n",
       "      <td>20237</td>\n",
       "      <td>19754</td>\n",
       "      <td>0.012078</td>\n",
       "    </tr>\n",
       "    <tr>\n",
       "      <th>16</th>\n",
       "      <td>Dr. González</td>\n",
       "      <td>3345</td>\n",
       "      <td>1713</td>\n",
       "      <td>1632</td>\n",
       "      <td>0.024215</td>\n",
       "    </tr>\n",
       "    <tr>\n",
       "      <th>14</th>\n",
       "      <td>Dr. Arroyo</td>\n",
       "      <td>35445</td>\n",
       "      <td>17849</td>\n",
       "      <td>17596</td>\n",
       "      <td>0.007138</td>\n",
       "    </tr>\n",
       "    <tr>\n",
       "      <th>11</th>\n",
       "      <td>Cerralvo</td>\n",
       "      <td>7855</td>\n",
       "      <td>4049</td>\n",
       "      <td>3806</td>\n",
       "      <td>0.030936</td>\n",
       "    </tr>\n",
       "    <tr>\n",
       "      <th>09</th>\n",
       "      <td>Cadereyta Jiménez</td>\n",
       "      <td>86445</td>\n",
       "      <td>43939</td>\n",
       "      <td>42506</td>\n",
       "      <td>0.016577</td>\n",
       "    </tr>\n",
       "    <tr>\n",
       "      <th>07</th>\n",
       "      <td>Aramberri</td>\n",
       "      <td>15470</td>\n",
       "      <td>7869</td>\n",
       "      <td>7601</td>\n",
       "      <td>0.017324</td>\n",
       "    </tr>\n",
       "    <tr>\n",
       "      <th>05</th>\n",
       "      <td>Anáhuac</td>\n",
       "      <td>18480</td>\n",
       "      <td>9219</td>\n",
       "      <td>9261</td>\n",
       "      <td>-0.002273</td>\n",
       "    </tr>\n",
       "    <tr>\n",
       "      <th>04</th>\n",
       "      <td>Allende</td>\n",
       "      <td>32593</td>\n",
       "      <td>16440</td>\n",
       "      <td>16153</td>\n",
       "      <td>0.008806</td>\n",
       "    </tr>\n",
       "    <tr>\n",
       "      <th>02</th>\n",
       "      <td>Agualeguas</td>\n",
       "      <td>3443</td>\n",
       "      <td>1777</td>\n",
       "      <td>1666</td>\n",
       "      <td>0.032239</td>\n",
       "    </tr>\n",
       "  </tbody>\n",
       "</table>\n",
       "</div>"
      ],
      "text/plain": [
       "                  Municipality   People   Males Females  Asymmetry\n",
       "Code                                                              \n",
       "26                   Guadalupe   678006  336731  341275  -0.006702\n",
       "31                      Juárez   256970  129324  127646   0.006530\n",
       "41                   Pesquería    20843   10737   10106   0.030274\n",
       "49                    Santiago    40469   20341   20128   0.005263\n",
       "18                      García   143668   72640   71028   0.011220\n",
       "48              Santa Catarina   268955  134388  134567  -0.000666\n",
       "39                   Monterrey  1135550  561656  573894  -0.010777\n",
       "19      San Pedro Garza García   122659   57622   65037  -0.060452\n",
       "10                      Carmen    16092    8175    7917   0.016033\n",
       "21              Gral. Escobedo   357937  180332  177605   0.007619\n",
       "45            Salinas Victoria    32660   16800   15860   0.028781\n",
       "25                Gral. Zuazua    55213   27787   27426   0.006538\n",
       "06                     Apodaca   523370  263374  259996   0.006454\n",
       "12           Ciénega de Flores    24526   12476   12050   0.017369\n",
       "47                     Hidalgo    16604    8318    8286   0.001927\n",
       "01                     Abasolo     2791    1406    1385   0.007524\n",
       "13                       China    10864    5585    5279   0.028166\n",
       "20                 Gral. Bravo     5527    2876    2651   0.040709\n",
       "03                 Los Aldamas     1374     708     666   0.030568\n",
       "15                    Dr. Coss     1716     889     827   0.036131\n",
       "51                  Villaldama     4113    2073    2040   0.008023\n",
       "44             Sabinas Hidalgo    34671   17214   17457  -0.007009\n",
       "46    San Nicolás de los Garza   443273  219337  223936  -0.010375\n",
       "08                  Bustamante     3773    1890    1883   0.001855\n",
       "33                     Linares    78669   39104   39565  -0.005860\n",
       "50                  Vallecillo     1971    1065     906   0.080670\n",
       "43                     Rayones     2628    1363    1265   0.037291\n",
       "42                 Los Ramones     5359    2720    2639   0.015115\n",
       "40                       Parás     1034     512     522  -0.009671\n",
       "38                Montemorelos    59113   29370   29743  -0.006310\n",
       "37                        Mina     5447    2774    2673   0.018542\n",
       "36              Mier y Noriega     7095    3555    3540   0.002114\n",
       "35              Melchor Ocampo      862     433     429   0.004640\n",
       "34                       Marín     5488    2808    2680   0.023324\n",
       "32         Lampazos de Naranjo     5349    2700    2649   0.009534\n",
       "30                    Iturbide     3558    1844    1714   0.036537\n",
       "29                 Hualahuises     6914    3424    3490  -0.009546\n",
       "28                    Higueras     1594     829     765   0.040151\n",
       "27                Los Herreras     2030    1001    1029  -0.013793\n",
       "24              Gral. Zaragoza     5942    3052    2890   0.027264\n",
       "23               Gral. Treviño     1277     626     651  -0.019577\n",
       "22                 Gral. Terán    14437    7234    7203   0.002147\n",
       "17                     Galeana    39991   20237   19754   0.012078\n",
       "16                Dr. González     3345    1713    1632   0.024215\n",
       "14                  Dr. Arroyo    35445   17849   17596   0.007138\n",
       "11                    Cerralvo     7855    4049    3806   0.030936\n",
       "09           Cadereyta Jiménez    86445   43939   42506   0.016577\n",
       "07                   Aramberri    15470    7869    7601   0.017324\n",
       "05                     Anáhuac    18480    9219    9261  -0.002273\n",
       "04                     Allende    32593   16440   16153   0.008806\n",
       "02                  Agualeguas     3443    1777    1666   0.032239"
      ]
     },
     "execution_count": 15,
     "metadata": {},
     "output_type": "execute_result"
    }
   ],
   "source": [
    "df_nl.head(n_valid_mun)"
   ]
  },
  {
   "cell_type": "markdown",
   "metadata": {},
   "source": [
    "# Colors"
   ]
  },
  {
   "cell_type": "code",
   "execution_count": 16,
   "metadata": {},
   "outputs": [],
   "source": [
    "# this uses \n",
    "# see https://www.codespeedy.com/convert-rgb-to-hex-color-code-in-python/\n",
    "# import matplotlib"
   ]
  },
  {
   "cell_type": "code",
   "execution_count": 17,
   "metadata": {},
   "outputs": [],
   "source": [
    "# color function red for -max of the abs of the values, blue for +max of the abs of the values\n",
    "def color_rwb(x,xMax,xMin):\n",
    "    xAbsMax = max( abs(xMax), abs(xMin) )\n",
    "    \n",
    "    if 0<x:\n",
    "        xCol = matplotlib.colors.to_hex(\n",
    "            [ \n",
    "                1-x/xAbsMax,\n",
    "                1-x/xAbsMax,\n",
    "                1\n",
    "            ]\n",
    "        )\n",
    "        \n",
    "    if x<0:\n",
    "        xCol = matplotlib.colors.to_hex(\n",
    "            [ \n",
    "                1,\n",
    "                1+x/xAbsMax,\n",
    "                1+x/xAbsMax\n",
    "            ]\n",
    "        )\n",
    "        \n",
    "    return xCol"
   ]
  },
  {
   "cell_type": "code",
   "execution_count": 18,
   "metadata": {},
   "outputs": [],
   "source": [
    "#color_rb(0.006538315251842863,max_Asymm,min_Asymm)"
   ]
  },
  {
   "cell_type": "code",
   "execution_count": 19,
   "metadata": {},
   "outputs": [],
   "source": [
    "#import branca # works"
   ]
  },
  {
   "cell_type": "code",
   "execution_count": 20,
   "metadata": {},
   "outputs": [],
   "source": [
    "#import geopandas # works"
   ]
  },
  {
   "cell_type": "markdown",
   "metadata": {},
   "source": [
    "# Make map"
   ]
  },
  {
   "cell_type": "code",
   "execution_count": 21,
   "metadata": {},
   "outputs": [],
   "source": [
    "latCen_nl = +024.95\n",
    "lonCen_nl = -100.33\n",
    "\n",
    "# define a map\n",
    "map_nl = folium.Map(location=[latCen_nl, lonCen_nl], width=300, height=400, zoom_start=6, min_zoom=6, max_zoom=14)"
   ]
  },
  {
   "cell_type": "code",
   "execution_count": 22,
   "metadata": {},
   "outputs": [
    {
     "data": {
      "text/plain": [
       "<folium.features.GeoJson at 0x7ff1041b1198>"
      ]
     },
     "execution_count": 22,
     "metadata": {},
     "output_type": "execute_result"
    }
   ],
   "source": [
    "# see\n",
    "# https://github.com/python-visualization/folium/blob/master/examples/GeoJSON_and_choropleth.ipynb\n",
    "\n",
    "max_Asymm = df_nl['Asymmetry'].max()\n",
    "min_Asymm = df_nl['Asymmetry'].min()\n",
    "\n",
    "# nuevo intento con la asimetría\n",
    "folium.GeoJson(\n",
    "    r'Munxentidad19_MOD.json',\n",
    "    style_function=lambda feature: {\n",
    "#        'fillColor': 'blue' if ( df_nl['Asymmetry'].loc[ feature['properties']['mun_code'] ]>0 ) else 'red',\n",
    "        'fillColor': color_rwb( df_nl['Asymmetry'].loc[ feature['properties']['mun_code'] ] ,max_Asymm,min_Asymm),\n",
    "        'fillOpacity': 0.6,\n",
    "        'color': 'black',\n",
    "        'weight': 1\n",
    "    }\n",
    ").add_to(map_nl)"
   ]
  },
  {
   "cell_type": "code",
   "execution_count": 23,
   "metadata": {},
   "outputs": [
    {
     "data": {
      "text/html": [
       "<div style=\"width:100%;\"><div style=\"position:relative;width:100%;height:0;padding-bottom:60%;\"><iframe src=\"about:blank\" style=\"position:absolute;width:100%;height:100%;left:0;top:0;border:none !important;\" data-html=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 onload=\"this.contentDocument.open();this.contentDocument.write(atob(this.getAttribute('data-html')));this.contentDocument.close();\" allowfullscreen webkitallowfullscreen mozallowfullscreen></iframe></div></div>"
      ],
      "text/plain": [
       "<folium.folium.Map at 0x7ff0d8cde7f0>"
      ]
     },
     "execution_count": 23,
     "metadata": {},
     "output_type": "execute_result"
    }
   ],
   "source": [
    "map_nl"
   ]
  },
  {
   "cell_type": "code",
   "execution_count": null,
   "metadata": {},
   "outputs": [],
   "source": []
  }
 ],
 "metadata": {
  "kernelspec": {
   "display_name": "Python 3",
   "language": "python",
   "name": "python3"
  },
  "language_info": {
   "codemirror_mode": {
    "name": "ipython",
    "version": 3
   },
   "file_extension": ".py",
   "mimetype": "text/x-python",
   "name": "python",
   "nbconvert_exporter": "python",
   "pygments_lexer": "ipython3",
   "version": "3.6.7"
  }
 },
 "nbformat": 4,
 "nbformat_minor": 2
}
